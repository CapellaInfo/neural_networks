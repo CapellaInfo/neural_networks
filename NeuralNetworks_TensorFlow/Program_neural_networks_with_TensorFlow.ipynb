{
  "cells": [
    {
      "cell_type": "markdown",
      "metadata": {
        "id": "_lni24_1b5i8"
      },
      "source": [
        "## **PROGRAM NEURAL NETWORKS WITH TENSORFLOW**\n",
        "- **TensorFlow** is an open source library for machine learning\n",
        "applicable to a wide variety of tasks.\n",
        "\n",
        "- It is a system for creating and training neural networks to detect and decipher patterns and correlations, analogous to the way humans learn and reason.\n",
        "\n",
        "- Treinar um *rede Neural* para descobrir a relação existente entre os números abaixo **Y=3X+1**.\n",
        "\n",
        "- O *conjunto de uma rede*, uma *função de perda* e um *otimizador* lida com o **processo de suposição da relação entre os números**, **mede o desempenho** deles e **gera novos parâmetros para novas suposições**."
      ]
    },
    {
      "cell_type": "markdown",
      "metadata": {
        "id": "HauJF0zDfR-2"
      },
      "source": [
        "\n",
        "![image.png](data:image/png;base64,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)"
      ]
    },
    {
      "cell_type": "code",
      "execution_count": 1,
      "metadata": {
        "id": "eiSWaB92bHjm"
      },
      "outputs": [],
      "source": [
        "# Tensorflow => Framework para aprendizado de máquina\n",
        "import tensorflow as tf\n",
        "# Numpy => Representa os dados como listas com facilidade e rapidez\n",
        "import numpy as np\n",
        "# Keras => Framework para definir uma rede neural como um conjunto de camadas sequenciais\n",
        "from tensorflow import keras"
      ]
    },
    {
      "cell_type": "code",
      "execution_count": 2,
      "metadata": {
        "id": "S2OZ5d9kb3_9"
      },
      "outputs": [],
      "source": [
        "# Criando uma rede neural simples com apenas uma camada, um neurônio e a forma de entrada tem apenas um valor\n",
        "model = tf.keras.Sequential([keras.layers.Dense(units=1, input_shape=[1])])"
      ]
    },
    {
      "cell_type": "code",
      "execution_count": 3,
      "metadata": {
        "id": "jTKNgiJEc84M"
      },
      "outputs": [],
      "source": [
        "# Loss => A função loss mede as respostas adivinhadas em relação as respostas corretas e avalia o desempenho da qualidade\n",
        "# Optimizer => O modelo usa a função optimizer para fazer outra suposição. Com base na função de perda, ele tenta minimizar a perda.\n",
        "model.compile(optimizer='sgd', loss='mean_squared_error')"
      ]
    },
    {
      "cell_type": "code",
      "execution_count": 4,
      "metadata": {
        "id": "zEVMRACFefpB"
      },
      "outputs": [],
      "source": [
        "# Alimentando alguns dados, definindo como os dados anteriores\n",
        "# Usando o método np.array() da biblioteca numpy para definir os dados de x e y\n",
        "xs = np.array([-1.0, 0.0, 1.0, 2.0, 3.0, 4.0], dtype=float)\n",
        "ys = np.array([-2.0, 1.0, 4.0, 7.0, 10.0, 13.0], dtype=float)"
      ]
    },
    {
      "cell_type": "code",
      "execution_count": null,
      "metadata": {
        "id": "_YfK8O4lgJb1"
      },
      "outputs": [],
      "source": [
        "# Processo de treinamento da Rede Neural, que aprende a relação entre X e Y\n",
        "# O modelo usará as funções de perda e otimização para melhorar o modelo e ir se adequando\n",
        "# Acontecerá pelo número de períodos definido 'epochs'\n",
        "model.fit(xs, ys, epochs=500)"
      ]
    },
    {
      "cell_type": "code",
      "execution_count": null,
      "metadata": {
        "id": "lDoFEZ-rhSy5"
      },
      "outputs": [],
      "source": [
        "# Usando o model.predict para descobrir o Y de um X desconhecido (10)\n",
        "# As redes neurais lidam com probabilidades, então o modelo calcula que há uma alta probabilidade de o resultado ser 31\n",
        "# Mas não é possível determinar com apenas seis exemplos de dados\n",
        "# O resultado é próximo de 31, mas não necessariamente 31\n",
        "print(model.predict([10.0]))"
      ]
    }
  ],
  "metadata": {
    "colab": {
      "provenance": []
    },
    "kernelspec": {
      "display_name": "Python 3",
      "name": "python3"
    },
    "language_info": {
      "name": "python"
    }
  },
  "nbformat": 4,
  "nbformat_minor": 0
}
