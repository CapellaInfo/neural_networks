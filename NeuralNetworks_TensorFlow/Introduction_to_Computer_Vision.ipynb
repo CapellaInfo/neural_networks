{
  "nbformat": 4,
  "nbformat_minor": 0,
  "metadata": {
    "colab": {
      "provenance": []
    },
    "kernelspec": {
      "name": "python3",
      "display_name": "Python 3"
    },
    "language_info": {
      "name": "python"
    }
  },
  "cells": [
    {
      "cell_type": "markdown",
      "source": [
        "## **INTRODUCTION TO COMPUTER VISION**\n",
        "\n",
        "- Você treinará uma rede neural para **reconhecer itens de vestuário** de um conjunto de dados comum chamado Fashion MNIST. Ela tem 70 mil itens em 10 categorias diferentes."
      ],
      "metadata": {
        "id": "oZpWRMH5kpy7"
      }
    },
    {
      "cell_type": "markdown",
      "source": [
        "![image.png](data:image/png;base64,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)"
      ],
      "metadata": {
        "id": "3J65YSS2lEtq"
      }
    },
    {
      "cell_type": "code",
      "execution_count": null,
      "metadata": {
        "id": "AiHPGkKkkQiQ"
      },
      "outputs": [],
      "source": [
        "import tensorflow as tf\n",
        "print(tf.__version__)"
      ]
    },
    {
      "cell_type": "code",
      "source": [
        "# Carregando os dados da API tf.keras.datasets\n",
        "mnist = tf.keras.datasets.fashion_mnist"
      ],
      "metadata": {
        "id": "6CFXvwGTlMUc"
      },
      "execution_count": null,
      "outputs": []
    },
    {
      "cell_type": "code",
      "source": [
        "# load_data => esse objeto fornece dois conjuntos de duas listas\n",
        "# valores de treinamento e testes, que representam gráficos que mostram intens de vestuário e os rótulos\n",
        "(training_images, training_labels), (test_images, test_labels) = mnist.load_data()"
      ],
      "metadata": {
        "id": "SN5Zm4kOlXDX"
      },
      "execution_count": null,
      "outputs": []
    },
    {
      "cell_type": "code",
      "source": [
        "# Exibindo uma imagem e um rótulo para ver\n",
        "import matplotlib.pyplot as plt\n",
        "plt.imshow(training_images[0])\n",
        "# Exibindo os dados do item 0\n",
        "print(training_labels[0])\n",
        "print(training_images[0])"
      ],
      "metadata": {
        "id": "H5i3WckJlpyQ"
      },
      "execution_count": null,
      "outputs": []
    },
    {
      "cell_type": "code",
      "source": [
        "# Ao treinar uma rede neural é mais fácil tratar todos os valores entre 0 e 1, um processo chamado normalização\n",
        "training_images  = training_images / 255.0\n",
        "test_images = test_images / 255.0"
      ],
      "metadata": {
        "id": "aQ61_7PvmG00"
      },
      "execution_count": null,
      "outputs": []
    },
    {
      "cell_type": "markdown",
      "source": [
        "- A ideia é ter um conjunto de dados para **treinamento** e outro que o modelo ainda não tenha encontrado para **ver se consegue classificar bem os valores**"
      ],
      "metadata": {
        "id": "nVr0g-9immux"
      }
    },
    {
      "cell_type": "code",
      "source": [
        "# Criando o modelo:\n",
        "# Teremos três camadas:\n",
        "# Sequential => define uma sequência de camadas na rede neural.\n",
        "# Flatten => transforma um quadrado em um vetor unidimensional.\n",
        "# Dense => adiciona uma camada de neurônios.\n",
        "# As funções Activation => informam a cada camada de neurônios o que fazer.\n",
        "# Relu => significa que, se X for maior que 0, o retorno será X. Caso contrário, retornará 0. Ela transmite apenas valores de 0 ou mais para a próxima camada na rede.\n",
        "# Softmax => usa um conjunto de valores e escolhe o maior. Por exemplo, se o resultado da última camada for [0,1, 0,1, 0,05, 0,1, 9,5, 0,1, 0,05, 0,05, 0,05], ele evitará ter que classificar para o maior valor: ele retorna [0,0,0,0,1,0,0,0,0]\n",
        "\n",
        "model = tf.keras.models.Sequential([tf.keras.layers.Flatten(),\n",
        "                                    tf.keras.layers.Dense(512, activation=tf.nn.relu),\n",
        "                                    tf.keras.layers.Dense(10, activation=tf.nn.softmax)])"
      ],
      "metadata": {
        "id": "rPIv8IfPmxs_"
      },
      "execution_count": null,
      "outputs": []
    },
    {
      "cell_type": "code",
      "source": [
        "# Criando um modelo e compilando-o com as funções optimizer e loss\n",
        "# metrics => permite ao TensorFlow informar a precisão do treinamento comparando os resultados previstos com os rótulos\n",
        "model.compile(optimizer = tf.keras.optimizers.Adam(),\n",
        "              loss = 'sparse_categorical_crossentropy',\n",
        "              metrics=['accuracy'])\n",
        "\n",
        "# Treinando nos rótulos e dados de treinamento\n",
        "# O objetivo é que o modelo descubra a relação entre os dados e rótulos de treinamento\n",
        "model.fit(training_images, training_labels, epochs=5)"
      ],
      "metadata": {
        "id": "OV7-IvhAm6tU"
      },
      "execution_count": null,
      "outputs": []
    },
    {
      "cell_type": "code",
      "source": [
        "# Enviando dados de teste que o modelo ainda não viu\n",
        "# model.evaluate avalia e informa a perda e acurácia do modelo em relação aos dados de teste\n",
        "model.evaluate(test_images, test_labels)"
      ],
      "metadata": {
        "id": "L1dDUbdjplFP"
      },
      "execution_count": null,
      "outputs": []
    },
    {
      "cell_type": "markdown",
      "source": [
        "## **Exercicíos**"
      ],
      "metadata": {
        "id": "sBga4U3LqLbn"
      }
    },
    {
      "cell_type": "code",
      "source": [
        "# Retorna uma lista de 10 números, são probabilidades de que o valor classificado seja o rótulo correspondente\n",
        "classifications = model.predict(test_images)\n",
        "print(classifications[0])"
      ],
      "metadata": {
        "id": "sFORDmxIqOh2"
      },
      "execution_count": null,
      "outputs": []
    },
    {
      "cell_type": "markdown",
      "source": [
        "- Aumentar os valores na camada **Dense**, aumenta o número de neurônios\n",
        "- Aumentar os neurônios significa um melhor resultado, embora mais lento"
      ],
      "metadata": {
        "id": "_ivOMtZkrXTe"
      }
    },
    {
      "cell_type": "code",
      "source": [
        "import tensorflow as tf\n",
        "print(tf.__version__)\n",
        "mnist = tf.keras.datasets.fashion_mnist\n",
        "(training_images, training_labels), (test_images, test_labels) = mnist.load_data()\n",
        "#training_images=training_images/255.0\n",
        "#test_images=test_images/255.0\n",
        "model = tf.keras.models.Sequential([\n",
        "  tf.keras.layers.Flatten(),\n",
        "  tf.keras.layers.Dense(512, activation=tf.nn.relu),\n",
        "  tf.keras.layers.Dense(10, activation=tf.nn.softmax)\n",
        "])\n",
        "model.compile(optimizer='adam', loss='sparse_categorical_crossentropy')\n",
        "model.fit(training_images, training_labels, epochs=5)\n",
        "model.evaluate(test_images, test_labels)\n",
        "classifications = model.predict(test_images)\n",
        "print(classifications[0])\n",
        "print(test_labels[0])"
      ],
      "metadata": {
        "id": "cqMwoEOjrGrH"
      },
      "execution_count": null,
      "outputs": []
    },
    {
      "cell_type": "code",
      "source": [
        "import tensorflow as tf\n",
        "\n",
        "class myCallback(tf.keras.callbacks.Callback):\n",
        "  def on_epoch_end(self, epoch, logs={}):\n",
        "    if(logs.get('accuracy')>0.95):\n",
        "      print(\"\\nReached 95% accuracy so cancelling training!\")\n",
        "      self.model.stop_training = True\n",
        "\n",
        "callbacks = myCallback()\n",
        "mnist = tf.keras.datasets.fashion_mnist\n",
        "(training_images, training_labels), (test_images, test_labels) = mnist.load_data()\n",
        "training_images=training_images/255.0\n",
        "test_images=test_images/255.0\n",
        "model = tf.keras.models.Sequential([\n",
        "  tf.keras.layers.Flatten(),\n",
        "  tf.keras.layers.Dense(512, activation=tf.nn.relu),\n",
        "  tf.keras.layers.Dense(10, activation=tf.nn.softmax)\n",
        "])\n",
        "model.compile(optimizer='adam', loss='sparse_categorical_crossentropy', metrics=['accuracy'])\n",
        "model.fit(training_images, training_labels, epochs=5, callbacks=[callbacks])"
      ],
      "metadata": {
        "id": "-i7nDUuVDR3i"
      },
      "execution_count": null,
      "outputs": []
    }
  ]
}